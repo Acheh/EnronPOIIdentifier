{
 "cells": [
  {
   "cell_type": "markdown",
   "metadata": {},
   "source": [
    "# Identify Fraud from Enron Email\n",
    "by: Yasirah Krueng\n",
    "\n",
    "\n",
    "## Free-Response Questions"
   ]
  },
  {
   "cell_type": "code",
   "execution_count": 1,
   "metadata": {
    "collapsed": false
   },
   "outputs": [
    {
     "name": "stderr",
     "output_type": "stream",
     "text": [
      "C:\\ProgramData\\Anaconda3\\envs\\DAND\\lib\\site-packages\\sklearn\\cross_validation.py:41: DeprecationWarning: This module was deprecated in version 0.18 in favor of the model_selection module into which all the refactored classes and functions are moved. Also note that the interface of the new CV iterators are different from that of this module. This module will be removed in 0.20.\n",
      "  \"This module will be removed in 0.20.\", DeprecationWarning)\n"
     ]
    },
    {
     "name": "stdout",
     "output_type": "stream",
     "text": [
      "Preparing POI identifier...\n",
      "Tuning different classifiers...\n",
      "Tuning time:\n",
      "    - GaussianNB               :  0.22s\n",
      "    - DecisionTreeClassifier   :  0.16s\n",
      "    - RandomForestClassifier   :  2.37s\n",
      "    - AdaBoostClassifier       :  4.53s\n",
      "    - Final Identifier         :  0.61s\n",
      "Finished loading in 7.93s\n",
      "\n"
     ]
    }
   ],
   "source": [
    "import poi_id as poi"
   ]
  },
  {
   "cell_type": "markdown",
   "metadata": {},
   "source": [
    "** _1. Summarize for us the goal of this project and how machine learning is useful in trying to accomplish it. As part of your answer, give some background on the dataset and how it can be used to answer the project question. Were there any outliers in the data when you got it, and how did you handle those? [relevant rubric items: \"data exploration\", \"outlier investigation\"]_**\n",
    "\n",
    "The goal of this project is to build a person of interest identifier based on financial and email data made public as a result of the Enron scandal. A person of interest is an individual who was indicted, reached a settlement of plea deal with the government, or testified in exchange for prosecution immunity. Machine learning is useful in trying to accomplish this goal because it can utilize the significant amount of typically confidential information of top Enron's excecutives that entered into the public record, including tens of thousands of emails and detailed financial data for top executives. A machine learning model will categorize the data, find trends in them, and apply these information to new datasets.   \n",
    "\n",
    "### Data Exploration\n",
    "\n",
    "#### Data Overview"
   ]
  },
  {
   "cell_type": "markdown",
   "metadata": {},
   "source": [
    "**Data Features**\n",
    "\n",
    "There are 17 features available in the dataset:"
   ]
  },
  {
   "cell_type": "code",
   "execution_count": 2,
   "metadata": {
    "collapsed": false
   },
   "outputs": [
    {
     "name": "stdout",
     "output_type": "stream",
     "text": [
      "- salary\n",
      "- to_messages\n",
      "- deferral_payments\n",
      "- exercised_stock_options\n",
      "- bonus\n",
      "- restricted_stock\n",
      "- shared_receipt_with_poi\n",
      "- restricted_stock_deferred\n",
      "- expenses\n",
      "- loan_advances\n",
      "- from_messages\n",
      "- other\n",
      "- from_this_person_to_poi\n",
      "- director_fees\n",
      "- deferred_income\n",
      "- long_term_incentive\n",
      "- from_poi_to_this_person\n"
     ]
    }
   ],
   "source": [
    "poi.print_data_features(poi.available_features)"
   ]
  },
  {
   "cell_type": "markdown",
   "metadata": {
    "collapsed": false
   },
   "source": [
    "The graph below shows the percentage of missing value in each features:"
   ]
  },
  {
   "cell_type": "code",
   "execution_count": 3,
   "metadata": {
    "collapsed": false
   },
   "outputs": [
    {
     "data": {
      "image/png": "[encoded data removed]",
      "text/plain": [
       "<matplotlib.figure.Figure at 0xda08e80>"
      ]
     },
     "metadata": {},
     "output_type": "display_data"
    }
   ],
   "source": [
    "poi.plot_nan_features()"
   ]
  },
  {
   "cell_type": "markdown",
   "metadata": {},
   "source": [
    "In the next question, I'll come back to this plot and explain what I did to features with too many missing values."
   ]
  },
  {
   "cell_type": "markdown",
   "metadata": {},
   "source": [
    "** Data Points**\n",
    "\n",
    "There are 146 original data points available in the dataset. There are only 18 POI (about 12% of data points) out of 35 POI (listed in poi_names.txt) in the dataset. It will become a challenge in validation process and will be address in question number 5 about validation.\n",
    "\n",
    "There are also many missing values in each data points. Here are some data points with the most missing values:"
   ]
  },
  {
   "cell_type": "code",
   "execution_count": 4,
   "metadata": {
    "collapsed": false
   },
   "outputs": [
    {
     "name": "stdout",
     "output_type": "stream",
     "text": [
      "Name                           Missing Values out of 17 features.\n",
      "WODRASKA JOHN                 : 16\n",
      "WHALEY DAVID A                : 16\n",
      "WROBEL BRUCE                  : 16\n",
      "LOCKHART EUGENE E             : 17\n",
      "THE TRAVEL AGENCY IN THE PARK : 16\n",
      "SCRIMSHAW MATTHEW             : 16\n",
      "GRAMM WENDY L                 : 16\n"
     ]
    }
   ],
   "source": [
    "poi.print_nan_datapoints(min_nan=15)"
   ]
  },
  {
   "cell_type": "markdown",
   "metadata": {},
   "source": [
    "Notice that **'THE TRAVEL AGENCY IN THE PARK'** is not a person name, so we cannot identify it as a POI, thus this data point needs to be removed from the dataset."
   ]
  },
  {
   "cell_type": "markdown",
   "metadata": {},
   "source": [
    "**Data Outliers**\n",
    "\n",
    "- Bonus outliers:"
   ]
  },
  {
   "cell_type": "code",
   "execution_count": 5,
   "metadata": {
    "collapsed": false
   },
   "outputs": [
    {
     "name": "stdout",
     "output_type": "stream",
     "text": [
      "MCMAHON JEFFREY               :    2600000\n",
      "KITCHEN LOUISE                :    3100000\n",
      "LAVORATO JOHN J               :    8000000\n",
      "WHALLEY LAWRENCE G            :    3000000\n",
      "DELAINEY DAVID W              :    3000000\n",
      "LAY KENNETH L                 :    7000000\n",
      "BELDEN TIMOTHY N              :    5249999\n",
      "SKILLING JEFFREY K            :    5600000\n",
      "TOTAL                         :   97343619\n",
      "ALLEN PHILLIP K               :    4175000\n",
      "FALLON JAMES B                :    2500000\n"
     ]
    }
   ],
   "source": [
    "poi.print_outliers('bonus')"
   ]
  },
  {
   "cell_type": "markdown",
   "metadata": {},
   "source": [
    "- Salary ouliers:"
   ]
  },
  {
   "cell_type": "code",
   "execution_count": 6,
   "metadata": {
    "collapsed": false
   },
   "outputs": [
    {
     "name": "stdout",
     "output_type": "stream",
     "text": [
      "WHALLEY LAWRENCE G            :     510364\n",
      "LAY KENNETH L                 :    1072321\n",
      "SKILLING JEFFREY K            :    1111258\n",
      "PICKERING MARK R              :     655037\n",
      "TOTAL                         :   26704229\n",
      "DERRICK JR. JAMES V           :     492375\n",
      "FREVERT MARK A                :    1060932\n"
     ]
    }
   ],
   "source": [
    "poi.print_outliers('salary')"
   ]
  },
  {
   "cell_type": "markdown",
   "metadata": {},
   "source": [
    "There many outliers in bonus and salary features, and one of them is from an invalid data point due to table conversion. The invalid data point is 'TOTAL' and it should be removed from the dataset.\n",
    "\n",
    "Notice that after removing 'THE TRAVEL AGENCY IN THE PARK' and 'TOTAL', there are only 144 data points left in the dataset.\n",
    "\n",
    "Here's the scatter plot of salary vs. bonus in the initial dataset:"
   ]
  },
  {
   "cell_type": "code",
   "execution_count": 7,
   "metadata": {
    "collapsed": false
   },
   "outputs": [
    {
     "data": {
      "image/png": "[encoded data removed]",
      "text/plain": [
       "<matplotlib.figure.Figure at 0xda2d4a8>"
      ]
     },
     "metadata": {},
     "output_type": "display_data"
    }
   ],
   "source": [
    "poi.plot_poi_scatter(poi.data_dict, x_label = \"Salary\", y_label = \"Bonus\")"
   ]
  },
  {
   "cell_type": "markdown",
   "metadata": {},
   "source": [
    "And here's the scatter plot of salary vs. bonus after outliers removal:"
   ]
  },
  {
   "cell_type": "code",
   "execution_count": 8,
   "metadata": {
    "collapsed": false
   },
   "outputs": [
    {
     "data": {
      "image/png": "[encoded data removed]",
      "text/plain": [
       "<matplotlib.figure.Figure at 0xe2c3c18>"
      ]
     },
     "metadata": {},
     "output_type": "display_data"
    }
   ],
   "source": [
    "poi.plot_poi_scatter(poi.my_dataset, x_label = \"Salary\", y_label = \"Bonus\")"
   ]
  },
  {
   "cell_type": "markdown",
   "metadata": {},
   "source": [
    "Though there are still some outliers left after removing 'TOTAL' and 'THE TRAVEL AGENCY IN THE PARK', but those outliers are valid data points and should be kept in the dataset."
   ]
  },
  {
   "cell_type": "markdown",
   "metadata": {},
   "source": [
    "**_2. What features did you end up using in your POI identifier, and what selection process did you use to pick them? Did you have to do any scaling? Why or why not? As part of the assignment, you should attempt to engineer you own feature that does not come ready-made in the dataset -- explain what feature you tried to make, and the rationale behind it. (You do not necessarily have to use it in the final analysis, only engineer and test it.) In your feature selection step, if you used an algorithm like a decision tree, please also give the feature importances of the features that you use, and if you used an automated feature selection funcion like SelectKBest, please report the feature scores and reasons for your choice of parameter values. [relevant rubric items: \"create new features\", \"intelligently select features\", \"properly scale features\"]_**\n",
    "\n",
    "I ended up using 3 original features and 3 newly engineered features, in my POI identifier. Those features are:\n",
    "\n",
    "**Original Features**:\n",
    "- deferred_income\n",
    "- expenses\n",
    "- other\n",
    "\n",
    "**New Features**:\n",
    "- bonus_fraction : a fraction of bonus to the salary, which might be more useful than simply bonus, because a higher bonus-fraction might indicate fraud or bribery.\n",
    "- from_poi_fraction : a fraction of the number of e-mails received from poi to the number of total e-mails received, which is more telling of how often a person communicate with poi than non-poi in general. \n",
    "- to_poi_fraction : a fraction of the number of e-mails sent to poi to the number of total e-mails sent, which is also more telling of how often a person communicate with poi than non-poi in general.\n",
    "\n",
    "Initially, I only used automated feature selection in my POI identifier using all available financial and email features plus the three new features, but the identifier didn't perform that well on the test, so I tried to look at the features again. I notice that some features, such as loan_advances and director_fees have mostly NaN values as shown on the Portion of Missing Values in Features bar graph above, so I chose not to use these features. After futher manual selection, I ended up with 11 features:"
   ]
  },
  {
   "cell_type": "code",
   "execution_count": 9,
   "metadata": {
    "collapsed": false
   },
   "outputs": [
    {
     "name": "stdout",
     "output_type": "stream",
     "text": [
      "- deferral_payments\n",
      "- deferred_income\n",
      "- exercised_stock_options\n",
      "- expenses\n",
      "- long_term_incentive\n",
      "- other\n",
      "- restricted_stock_deferred\n",
      "- salary\n",
      "- bonus_fraction\n",
      "- from_poi_fraction\n",
      "- to_poi_fraction\n"
     ]
    }
   ],
   "source": [
    "poi.print_data_features(poi.initial_features)"
   ]
  },
  {
   "cell_type": "markdown",
   "metadata": {},
   "source": [
    "Then, I experimented with automated feature selection using SelectKBest, PCA, and FeatureUnion using both SelectKBest and PCA. I ended up using SelectKBest with k=9 (the best performance after tuning the k parameter). I also experimented with feature scaling using MinMaxScaler and Normalizer, but in doing so, lowered the performance of my identifier. Thus, I decided not to use feature scaling in my final model. Below are the SelectKBest feature scores and DecisionTreeClassifier feature importances using the 11 features above and SelectKBest k=9:"
   ]
  },
  {
   "cell_type": "code",
   "execution_count": 10,
   "metadata": {
    "collapsed": false
   },
   "outputs": [
    {
     "name": "stdout",
     "output_type": "stream",
     "text": [
      "Feature Name            Score  P-value\n",
      "expenses                24.53  0.00\n",
      "from_poi_fraction       18.00  0.00\n",
      "exercised_stock_options 11.32  0.00\n",
      "to_poi_fraction         10.61  0.00\n",
      "other                   09.77  0.00\n",
      "long_term_incentive     05.95  0.02\n",
      "salary                  04.13  0.04\n",
      "deferred_income         00.23  0.63\n",
      "bonus_fraction          00.07  0.80\n",
      "\n"
     ]
    }
   ],
   "source": [
    "poi.print_kbest_feature_scores(poi.dtree_tuner, \n",
    "                               poi.dtree_tuner_selected_features)"
   ]
  },
  {
   "cell_type": "code",
   "execution_count": 11,
   "metadata": {
    "collapsed": false
   },
   "outputs": [
    {
     "name": "stdout",
     "output_type": "stream",
     "text": [
      "Feature Name            Feature Importance\n",
      "other                    0.44\n",
      "expenses                 0.25\n",
      "to_poi_fraction          0.09\n",
      "bonus_fraction           0.08\n",
      "from_poi_fraction        0.08\n",
      "deferred_income          0.07\n",
      "exercised_stock_options   0.0\n",
      "long_term_incentive       0.0\n",
      "salary                    0.0\n",
      "\n"
     ]
    }
   ],
   "source": [
    "poi.print_dtree_feature_importances(poi.dtree_tuner,\n",
    "                                    poi.dtree_tuner_selected_features)"
   ]
  },
  {
   "cell_type": "markdown",
   "metadata": {},
   "source": [
    "Based on feature importances above, I selected only features with importance value greater than 0 to be in my final features list, giving me the 6 final features in the list. After another parameter tuning, I got the best performance from SeleckKBest k=6 using DecisionTreeClassifier with the following feature scores and importances: "
   ]
  },
  {
   "cell_type": "markdown",
   "metadata": {},
   "source": [
    "** Final Identifier SelectKBest Feature Scores **"
   ]
  },
  {
   "cell_type": "code",
   "execution_count": 12,
   "metadata": {
    "collapsed": false
   },
   "outputs": [
    {
     "name": "stdout",
     "output_type": "stream",
     "text": [
      "Feature Name            Score  P-value\n",
      "to_poi_fraction         12.41  0.00\n",
      "deferred_income         09.01  0.00\n",
      "bonus_fraction          07.73  0.01\n",
      "expenses                03.66  0.06\n",
      "other                   03.15  0.08\n",
      "from_poi_fraction       01.89  0.17\n",
      "\n"
     ]
    }
   ],
   "source": [
    "poi.print_kbest_feature_scores(poi.clf_tuner, \n",
    "                               poi.clf_tuner_selected_features)"
   ]
  },
  {
   "cell_type": "markdown",
   "metadata": {},
   "source": [
    "** Final Identifier DecisionTreeClassifier Feature Importances **"
   ]
  },
  {
   "cell_type": "code",
   "execution_count": 13,
   "metadata": {
    "collapsed": false
   },
   "outputs": [
    {
     "name": "stdout",
     "output_type": "stream",
     "text": [
      "Feature Name            Feature Importance\n",
      "other                    0.39\n",
      "expenses                 0.27\n",
      "to_poi_fraction          0.11\n",
      "from_poi_fraction        0.08\n",
      "deferred_income          0.08\n",
      "bonus_fraction           0.08\n",
      "\n"
     ]
    }
   ],
   "source": [
    "poi.print_dtree_feature_importances(poi.clf_tuner,\n",
    "                                    poi.clf_tuner_selected_features)"
   ]
  },
  {
   "cell_type": "markdown",
   "metadata": {},
   "source": [
    "**_3. What algorithm did you end up using? What other one(s) did you try? How did model performance differ between algorithms? [relevant rubric item: \"pick an algorithm\"]_**\n",
    "\n",
    "I ended up using a DecisionTreeClassifier and I also experimented with GaussianNB, RandomForestClassifier, and AdaBoostClassifier with a DecisionTreeClassifier base estimator. While RandomForestClassifier gives the best accuracy and precision scores, it has bad F1 and recall scores. GaussianNB performs better than RandomForestClassifier in this project with better F1, and recall scores. AdaBoostClassifier performs just slighly below the final DecisionTreeClassifier. Additionally, the times to train and test different classifiers were different too. GaussianNB and DecisionTreeClassifier were fast but AdaBoostClassifier and RandomForestClassifier were slower as shown on the test scores below:"
   ]
  },
  {
   "cell_type": "code",
   "execution_count": 14,
   "metadata": {
    "collapsed": false
   },
   "outputs": [
    {
     "name": "stdout",
     "output_type": "stream",
     "text": [
      "******************\n",
      "*** GaussianNB ***\n",
      "******************\n",
      "\n",
      "Pipeline(memory=None,\n",
      "     steps=[('feature_selection', FeatureUnion(n_jobs=1,\n",
      "       transformer_list=[('pca', PCA(copy=True, iterated_power='auto', n_components=2, random_state=None,\n",
      "  svd_solver='auto', tol=0.0, whiten=False)), ('kbest', SelectKBest(k=8, score_func=<function f_classif at 0x000000000BD67D68>))],\n",
      "       transformer_weights=None)), ('clf', GaussianNB(priors=None))])\n",
      "\tAccuracy: 0.86780\tPrecision: 0.50528\tRecall: 0.40700\tF1: 0.45084\tF2: 0.42347\n",
      "\tTotal predictions: 15000\tTrue positives:  814\tFalse positives:  797\tFalse negatives: 1186\tTrue negatives: 12203\n",
      "\n",
      "Testing time: 2.75s\n",
      "\n",
      "******************************\n",
      "*** RandomForestClassifier ***\n",
      "******************************\n",
      "\n",
      "Pipeline(memory=None,\n",
      "     steps=[('feature_selection', SelectKBest(k=9, score_func=<function f_classif at 0x000000000BD67D68>)), ('clf', RandomForestClassifier(bootstrap=True, class_weight=None, criterion='entropy',\n",
      "            max_depth=None, max_features='auto', max_leaf_nodes=None,\n",
      "            min_impurity_decrease=0.0, m...stimators=50, n_jobs=1,\n",
      "            oob_score=False, random_state=24, verbose=0, warm_start=False))])\n",
      "\tAccuracy: 0.87687\tPrecision: 0.60079\tRecall: 0.22800\tF1: 0.33055\tF2: 0.26030\n",
      "\tTotal predictions: 15000\tTrue positives:  456\tFalse positives:  303\tFalse negatives: 1544\tTrue negatives: 12697\n",
      "\n",
      "Testing time: 106.06s\n",
      "\n",
      "**************************\n",
      "*** AdaBoostClassifier ***\n",
      "**************************\n",
      "\n",
      "Pipeline(memory=None,\n",
      "     steps=[('feature_selection', SelectKBest(k=9, score_func=<function f_classif at 0x000000000BD67D68>)), ('clf', AdaBoostClassifier(algorithm='SAMME.R',\n",
      "          base_estimator=DecisionTreeClassifier(class_weight='balanced', criterion='gini', max_depth=1,\n",
      "            max_features=None, max_leaf_nodes...one,\n",
      "            splitter='best'),\n",
      "          learning_rate=0.1, n_estimators=100, random_state=24))])\n",
      "\tAccuracy: 0.82353\tPrecision: 0.39397\tRecall: 0.60100\tF1: 0.47595\tF2: 0.54384\n",
      "\tTotal predictions: 15000\tTrue positives: 1202\tFalse positives: 1849\tFalse negatives:  798\tTrue negatives: 11151\n",
      "\n",
      "Testing time: 217.82s\n",
      "\n",
      "******************************\n",
      "*** DecisionTreeClassifier ***\n",
      "******************************\n",
      "\n",
      "Pipeline(memory=None,\n",
      "     steps=[('feature_selection', SelectKBest(k=9, score_func=<function f_classif at 0x000000000BD67D68>)), ('clf', DecisionTreeClassifier(class_weight='balanced', criterion='gini', max_depth=5,\n",
      "            max_features=None, max_leaf_nodes=None,\n",
      "            min_impurity_decrease=0.0, min_impurity_split=None,\n",
      "            min_samples_leaf=4, min_samples_split=2,\n",
      "            min_weight_fraction_leaf=0.0, presort=False, random_state=24,\n",
      "            splitter='best'))])\n",
      "\tAccuracy: 0.82493\tPrecision: 0.39697\tRecall: 0.60300\tF1: 0.47876\tF2: 0.54629\n",
      "\tTotal predictions: 15000\tTrue positives: 1206\tFalse positives: 1832\tFalse negatives:  794\tTrue negatives: 11168\n",
      "\n",
      "Testing time: 2.09s\n",
      "\n"
     ]
    }
   ],
   "source": [
    "poi.print_test_scores()"
   ]
  },
  {
   "cell_type": "markdown",
   "metadata": {},
   "source": [
    "And this is the test score for the final POI identifier using DecisionTreeClassfier:"
   ]
  },
  {
   "cell_type": "code",
   "execution_count": 15,
   "metadata": {
    "collapsed": false
   },
   "outputs": [
    {
     "name": "stdout",
     "output_type": "stream",
     "text": [
      "************************************************\n",
      "*** Final Classifier: DecisionTreeClassifier ***\n",
      "************************************************\n",
      "\n",
      "Pipeline(memory=None,\n",
      "     steps=[('feature_selection', SelectKBest(k=6, score_func=<function f_classif at 0x000000000BD67D68>)), ('clf', DecisionTreeClassifier(class_weight='balanced', criterion='gini', max_depth=5,\n",
      "            max_features=None, max_leaf_nodes=None,\n",
      "            min_impurity_decrease=0.0, min_impurity_split=None,\n",
      "            min_samples_leaf=4, min_samples_split=2,\n",
      "            min_weight_fraction_leaf=0.0, presort=False, random_state=24,\n",
      "            splitter='best'))])\n",
      "\tAccuracy: 0.81085\tPrecision: 0.42028\tRecall: 0.60500\tF1: 0.49600\tF2: 0.55612\n",
      "\tTotal predictions: 13000\tTrue positives: 1210\tFalse positives: 1669\tFalse negatives:  790\tTrue negatives: 9331\n",
      "\n",
      "Testing time: 1.58s\n"
     ]
    }
   ],
   "source": [
    "poi.print_test_scores(final=True)"
   ]
  },
  {
   "cell_type": "markdown",
   "metadata": {},
   "source": [
    "**_4. What does it mean to tune the parameters of an algorithm, and what can happen if you don't do this well? How did you tune the parameters of your particular algorithm? What parameters did you tune? (Some algorithms do not have parameters that you need to tune -- if this is the case for the one you picked, identify and briefly explain how you would have done it for the model that was not your final choice of a different model that does utilize parameter tuning, e.g. a decision tree classifier). [relevant rubric items: \"discuss parameter tuning\", \"tune the algorithm\"]_**\n",
    "\n",
    "To tune the parameters of an algorithm is basically to experiment with the values of each parameters of an algorithm in order to come up with a combination of values which optimized its performance. If it was not done well, one might ended up with an under performed algorithm. I tuned the parameters of my algorithm using GridSearchCV on a three-step Pipeline, a feature scaling (optional - final identifier did not use feature scaling), a feature selection, and a classifier step. On feature selection, I tuned the k parameter on SelectKBest, and n_components on PCA. On classifier, I tuned the min_samples_leaf, max_depth, and class_weight of DecisionTreeClassifier. I also tuned some parameters of the RandomForestClassifier and AdaBoostClassifier. \n",
    "\n",
    "** Final Identifier Best Parameters **"
   ]
  },
  {
   "cell_type": "code",
   "execution_count": 16,
   "metadata": {
    "collapsed": false
   },
   "outputs": [
    {
     "name": "stdout",
     "output_type": "stream",
     "text": [
      "feature_selection__k     : 6\n",
      "clf__min_samples_leaf    : 4\n",
      "clf__max_depth           : 5\n",
      "clf__class_weight        : balanced\n"
     ]
    }
   ],
   "source": [
    "poi.print_best_params(poi.clf_tuner)"
   ]
  },
  {
   "cell_type": "markdown",
   "metadata": {},
   "source": [
    "**_5. What is validation, and what's a classic mistake you can make if you do it wrong? How did you validate your analysis? [relevant rubric items: \"discuss validation\", \"validation strategy\"]_**\n",
    "\n",
    "Validation is basically a process where a trained model is being evaluated using test dataset. The classic mistake in this process is using the same dataset used to train the model to evaluate it, which will result in overfitting (high accuracy on train dataset). The challange in the validation process of this project was the small portion of POI in the dataset which made it hard to split the data into train and test data. The approach used to tackle this issue was using the Stratified Shuffle Split cross validation which is ideal for a small and uneven dataset."
   ]
  },
  {
   "cell_type": "markdown",
   "metadata": {},
   "source": [
    "**_6. Give at least 2 evaluation metrics and your average performance for each of them. Explain an interpretation of your metrics that says something human-understandable about your algorithm's performance. [relevant rubric item: \"usage of evaluation metrics\"]_**\n",
    "\n",
    "The main evaluation metrics used in this project are F1, recall, and precision. The average F1, recall, and precision score for my final POI identifier are 0.496, 0.605, and 0.420 respectively. It means that 60.5% actual POI in test case were correctly flagged by the identifier as POI. In another words, if a person in the test set was a real POI, there's a 60.5% chance that the identifier will flagged him/her as a POI. In addition, 42% of person predicted by the identifier as POI were actually true POI. In another words, if a person was identified by the model as a POI, there's a 42% chance that he/she's trully a POI. Based on these scores, we can say that my final identifier is good (realiable) at identifying a POI though it is not as accurate. "
   ]
  }
 ],
 "metadata": {
  "anaconda-cloud": {},
  "kernelspec": {
   "display_name": "Python [conda env:DAND]",
   "language": "python",
   "name": "conda-env-DAND-py"
  },
  "language_info": {
   "codemirror_mode": {
    "name": "ipython",
    "version": 2
   },
   "file_extension": ".py",
   "mimetype": "text/x-python",
   "name": "python",
   "nbconvert_exporter": "python",
   "pygments_lexer": "ipython2",
   "version": "2.7.12"
  }
 },
 "nbformat": 4,
 "nbformat_minor": 2
}
